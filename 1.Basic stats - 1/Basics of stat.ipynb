{
 "cells": [
  {
   "cell_type": "code",
   "execution_count": 1,
   "id": "e886b7e9",
   "metadata": {},
   "outputs": [],
   "source": [
    "import numpy as np\n",
    "from scipy import stats"
   ]
  },
  {
   "cell_type": "code",
   "execution_count": 2,
   "id": "6a380fda",
   "metadata": {},
   "outputs": [],
   "source": [
    "# Sample data\n",
    "durability = np.array([1.13, 1.55, 1.43, 0.92, 1.25, 1.36, 1.32, 0.85, 1.07, 1.48, 1.20, 1.33, 1.18, 1.22, 1.29])\n",
    "n = len(durability)\n",
    "sample_mean = np.mean(durability)\n",
    "sample_std = np.std(durability, ddof=1)  # ddof=1 for sample standard deviation"
   ]
  },
  {
   "cell_type": "code",
   "execution_count": 3,
   "id": "bd2bf2de",
   "metadata": {},
   "outputs": [],
   "source": [
    "# Calculate the t critical value\n",
    "t_critical = stats.t.ppf(0.995, df=n-1)  # for a two-tailed 99% confidence interval"
   ]
  },
  {
   "cell_type": "code",
   "execution_count": 4,
   "id": "ce7d8796",
   "metadata": {},
   "outputs": [],
   "source": [
    "# Calculate the margin of error\n",
    "margin_of_error = t_critical * (sample_std / np.sqrt(n))"
   ]
  },
  {
   "cell_type": "code",
   "execution_count": 5,
   "id": "817c23a9",
   "metadata": {},
   "outputs": [],
   "source": [
    "# Calculate the confidence interval\n",
    "confidence_interval = (sample_mean - margin_of_error, sample_mean + margin_of_error)"
   ]
  },
  {
   "cell_type": "code",
   "execution_count": 6,
   "id": "82d56f02",
   "metadata": {},
   "outputs": [
    {
     "name": "stdout",
     "output_type": "stream",
     "text": [
      "99% Confidence Interval using Sample Standard Deviation:\n",
      "( 1.090197338451367 , 1.3871359948819662 )\n"
     ]
    }
   ],
   "source": [
    "print(\"99% Confidence Interval using Sample Standard Deviation:\")\n",
    "print(\"(\", confidence_interval[0], \",\", confidence_interval[1], \")\")"
   ]
  },
  {
   "cell_type": "code",
   "execution_count": 7,
   "id": "9c23046e",
   "metadata": {},
   "outputs": [],
   "source": [
    "# Given data\n",
    "population_std = 0.2  # known population standard deviation in millions of characters"
   ]
  },
  {
   "cell_type": "code",
   "execution_count": 8,
   "id": "4dfb4f6b",
   "metadata": {},
   "outputs": [],
   "source": [
    "# Calculate the critical value from the standard normal distribution\n",
    "z_critical = stats.norm.ppf(0.995)  # for a two-tailed 99% confidence interval"
   ]
  },
  {
   "cell_type": "code",
   "execution_count": 9,
   "id": "2a93789d",
   "metadata": {},
   "outputs": [],
   "source": [
    "# Calculate the margin of error\n",
    "margin_of_error_known_std = z_critical * (population_std / np.sqrt(n))"
   ]
  },
  {
   "cell_type": "code",
   "execution_count": 10,
   "id": "a554a18f",
   "metadata": {},
   "outputs": [],
   "source": [
    "# Calculate the confidence interval\n",
    "confidence_interval_known_std = (sample_mean - margin_of_error_known_std, sample_mean + margin_of_error_known_std)"
   ]
  },
  {
   "cell_type": "code",
   "execution_count": 11,
   "id": "fd016bba",
   "metadata": {},
   "outputs": [
    {
     "name": "stdout",
     "output_type": "stream",
     "text": [
      "\n",
      "99% Confidence Interval using Known Population Standard Deviation (σ = 0.2):\n",
      "( 1.1056514133957607 , 1.3716819199375725 )\n"
     ]
    }
   ],
   "source": [
    "print(\"\\n99% Confidence Interval using Known Population Standard Deviation (σ = 0.2):\")\n",
    "print(\"(\", confidence_interval_known_std[0], \",\", confidence_interval_known_std[1], \")\")"
   ]
  },
  {
   "cell_type": "code",
   "execution_count": null,
   "id": "72d7b53b",
   "metadata": {},
   "outputs": [],
   "source": [
    "'''Choice of t-distribution in Part a: We use the t-distribution because we are estimating the population mean using the sample\n",
    "mean and standard deviation. The t-distribution accounts for the uncertainty introduced by estimating the\n",
    "population standard deviation from the sample.\n",
    "\n",
    "Use of normal distribution in Part b: Here, we know the population standard deviation, so we use the normal distribution, \n",
    "which does not need to estimate variability from the sample.\n",
    "\n",
    "'''"
   ]
  }
 ],
 "metadata": {
  "kernelspec": {
   "display_name": "Python 3 (ipykernel)",
   "language": "python",
   "name": "python3"
  },
  "language_info": {
   "codemirror_mode": {
    "name": "ipython",
    "version": 3
   },
   "file_extension": ".py",
   "mimetype": "text/x-python",
   "name": "python",
   "nbconvert_exporter": "python",
   "pygments_lexer": "ipython3",
   "version": "3.11.5"
  }
 },
 "nbformat": 4,
 "nbformat_minor": 5
}
